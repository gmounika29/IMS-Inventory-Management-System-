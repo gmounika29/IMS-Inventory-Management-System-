{
 "cells": [
  {
   "cell_type": "code",
   "execution_count": 5,
   "metadata": {},
   "outputs": [],
   "source": [
    "op=open(\"record.json\",\"r\")\n",
    "r=op.read()\n",
    "op.close()"
   ]
  },
  {
   "cell_type": "code",
   "execution_count": 6,
   "metadata": {},
   "outputs": [],
   "source": [
    "import json"
   ]
  },
  {
   "cell_type": "code",
   "execution_count": 7,
   "metadata": {},
   "outputs": [],
   "source": [
    "record=json.loads(r)"
   ]
  },
  {
   "cell_type": "code",
   "execution_count": 8,
   "metadata": {},
   "outputs": [
    {
     "data": {
      "text/plain": [
       "{'3001': {'name': 'chocolates', 'price': 10, 'quant': 79},\n",
       " '3002': {'name': 'ice cream', 'price': 25, 'quant': 55},\n",
       " '3003': {'name': 'pen', 'price': 10, 'quant': 57},\n",
       " '3004': {'name': 'pencil', 'price': 5, 'quant': 63},\n",
       " '3005': {'name': 'carrom board', 'price': 120, 'quant': 24},\n",
       " '3006': {'name': 'shuttle bats', 'price': 100, 'quant': 49},\n",
       " '3007': {'name': 'drinks', 'price': 60, 'quant': 42},\n",
       " '3008': {'name': 'cake', 'price': 20, 'quant': 30},\n",
       " '3009': {'name': 'soaps', 'price': 35, 'quant': 8},\n",
       " '3010': {'name': 'phones', 'price': 2000, 'quant': 24},\n",
       " '3011': {'name': 'televisions', 'price': 3500, 'quant': 10},\n",
       " '3012': {'name': 'bangles', 'price': 50, 'quant': 19},\n",
       " '3013': {'name': 'nail polishs', 'price': 20, 'quant': 78},\n",
       " '3014': {'name': 'tooth brushes', 'price': 40, 'quant': 41},\n",
       " '3015': {'name': 'ear rings', 'price': 67, 'quant': 33},\n",
       " '3016': {'name': 'lipsticks', 'price': 32, 'quant': 30},\n",
       " '3017': {'name': 'phone case', 'price': 150, 'quant': 46},\n",
       " '3018': {'name': 'power bank', 'price': 3400, 'quant': 20},\n",
       " '3019': {'name': 'rings', 'price': 10, 'quant': 43},\n",
       " '3020': {'name': 'chains', 'price': 30, 'quant': 20},\n",
       " '3021': {'name': 'clips', 'price': 5, 'quant': 30},\n",
       " '3022': {'name': 'chairs', 'price': 1032, 'quant': 36},\n",
       " '3023': {'name': 'sofa', 'price': 32132, 'quant': 6},\n",
       " '3024': {'name': 'washing machine', 'price': 53222, 'quant': 3},\n",
       " '3025': {'name': 'laptops', 'price': 48000, 'quant': 2},\n",
       " '3026': {'name': 'AC', 'price': 23232, 'quant': 7},\n",
       " '3027': {'name': 'face packs', 'price': 32, 'quant': 21},\n",
       " '3028': {'name': 'fridge', 'price': 45677, 'quant': 5},\n",
       " '3029': {'name': 'teddy bears', 'price': 300, 'quant': 10},\n",
       " '3030': {'name': 'shampoos', 'price': 3, 'quant': 90},\n",
       " '5': {'name': 'keyboard', 'price': 6567, 'quant': 8},\n",
       " '7': {'name': 'mouse', 'price': 6768, 'quant': 78}}"
      ]
     },
     "execution_count": 8,
     "metadata": {},
     "output_type": "execute_result"
    }
   ],
   "source": [
    "record"
   ]
  },
  {
   "cell_type": "code",
   "execution_count": 9,
   "metadata": {},
   "outputs": [],
   "source": [
    "d={}"
   ]
  },
  {
   "cell_type": "code",
   "execution_count": 21,
   "metadata": {},
   "outputs": [
    {
     "name": "stdout",
     "output_type": "stream",
     "text": [
      "enter product id3022\n",
      "enter quantity1\n",
      "enter your namebharati\n",
      "enter phone number8765432\n",
      "\n",
      "***********************\n",
      "\n",
      "Customer_name  bharati\n",
      "\n",
      "customer phone number 8765432\n",
      "\n",
      "Product ID:  3022\n",
      "\n",
      "Name:  chairs\n",
      "\n",
      "Price:  1032\n",
      "\n",
      "Quantity:  1\n",
      "\n",
      "------------------------\n",
      "\n",
      "Billing Amout:  1032\n",
      "\n",
      "***********************\n"
     ]
    }
   ],
   "source": [
    "pr_id=input(\"enter product id\")\n",
    "if pr_id in record:\n",
    "    quantity=int(input(\"enter quantity\"))\n",
    "    if(quantity<=record[pr_id][\"quant\"]):\n",
    "        cus_name=input(\"enter your name\")\n",
    "        ph_no=int(input(\"enter phone number\"))\n",
    "        print()\n",
    "        print(\"***********************\")\n",
    "        print()\n",
    "        print(\"Customer_name \",cus_name)\n",
    "        print()\n",
    "        print(\"customer phone number\",ph_no)\n",
    "        print()\n",
    "        print(\"Product ID: \",pr_id)\n",
    "        print()\n",
    "        print(\"Name: \", record[pr_id][\"name\"])\n",
    "        print()\n",
    "        print(\"Price: \",record[pr_id][\"price\"])\n",
    "        print()\n",
    "        print(\"Quantity: \",quantity)\n",
    "        print()\n",
    "        print(\"------------------------\")\n",
    "        print()\n",
    "        print(\"Billing Amout: \", record[pr_id][\"price\"]*quantity)\n",
    "        print()\n",
    "        print(\"***********************\")\n",
    "        d[len(d)+1]={\"Customer_name\":cus_name,\"product_ID\":pr_id,\"quantity\":quantity,\"amount\":record[pr_id][\"price\"]*quantity,\"phone_no\":ph_no}\n",
    "        record[pr_id][\"quant\"]=record[pr_id][\"quant\"]-quantity\n",
    "    else:\n",
    "        print(\"Sorry,we have only \"+str(record[pr_id][\"quant\"])+ \" quantities\")\n",
    "else:\n",
    "    print(\"Sorry,your item is not available\")\n"
   ]
  },
  {
   "cell_type": "code",
   "execution_count": 22,
   "metadata": {},
   "outputs": [
    {
     "data": {
      "text/plain": [
       "{1: {'Customer_name': 'mouni',\n",
       "  'product_ID': '3001',\n",
       "  'quantity': 5,\n",
       "  'amount': 50,\n",
       "  'phone_no': 665432111},\n",
       " 2: {'Customer_name': 'padu',\n",
       "  'product_ID': '3006',\n",
       "  'quantity': 3,\n",
       "  'amount': 300,\n",
       "  'phone_no': 786645},\n",
       " 3: {'Customer_name': 'pushpa',\n",
       "  'product_ID': '3027',\n",
       "  'quantity': 5,\n",
       "  'amount': 160,\n",
       "  'phone_no': 5566878},\n",
       " 4: {'Customer_name': 'srinu',\n",
       "  'product_ID': '3015',\n",
       "  'quantity': 8,\n",
       "  'amount': 536,\n",
       "  'phone_no': 787643},\n",
       " 5: {'Customer_name': 'suresh',\n",
       "  'product_ID': '3003',\n",
       "  'quantity': 1,\n",
       "  'amount': 10,\n",
       "  'phone_no': 5434567},\n",
       " 6: {'Customer_name': 'lavanya',\n",
       "  'product_ID': '3019',\n",
       "  'quantity': 7,\n",
       "  'amount': 70,\n",
       "  'phone_no': 76543245},\n",
       " 7: {'Customer_name': 'chandana',\n",
       "  'product_ID': '3022',\n",
       "  'quantity': 4,\n",
       "  'amount': 4128,\n",
       "  'phone_no': 6543212345},\n",
       " 8: {'Customer_name': 'vinay',\n",
       "  'product_ID': '3025',\n",
       "  'quantity': 1,\n",
       "  'amount': 48000,\n",
       "  'phone_no': 345678},\n",
       " 9: {'Customer_name': 'padmavati',\n",
       "  'product_ID': '3028',\n",
       "  'quantity': 2,\n",
       "  'amount': 91354,\n",
       "  'phone_no': 876543},\n",
       " 10: {'Customer_name': 'venkat',\n",
       "  'product_ID': '3011',\n",
       "  'quantity': 5,\n",
       "  'amount': 17500,\n",
       "  'phone_no': 876543},\n",
       " 11: {'Customer_name': 'bharati',\n",
       "  'product_ID': '3022',\n",
       "  'quantity': 1,\n",
       "  'amount': 1032,\n",
       "  'phone_no': 8765432}}"
      ]
     },
     "execution_count": 22,
     "metadata": {},
     "output_type": "execute_result"
    }
   ],
   "source": [
    "d"
   ]
  },
  {
   "cell_type": "code",
   "execution_count": 18,
   "metadata": {},
   "outputs": [
    {
     "data": {
      "text/plain": [
       "{'3001': {'name': 'chocolates', 'price': 10, 'quant': 79},\n",
       " '3002': {'name': 'ice cream', 'price': 25, 'quant': 55},\n",
       " '3003': {'name': 'pen', 'price': 10, 'quant': 57},\n",
       " '3004': {'name': 'pencil', 'price': 5, 'quant': 63},\n",
       " '3005': {'name': 'carrom board', 'price': 120, 'quant': 24},\n",
       " '3006': {'name': 'shuttle bats', 'price': 100, 'quant': 49},\n",
       " '3007': {'name': 'drinks', 'price': 60, 'quant': 42},\n",
       " '3008': {'name': 'cake', 'price': 20, 'quant': 30},\n",
       " '3009': {'name': 'soaps', 'price': 35, 'quant': 8},\n",
       " '3010': {'name': 'phones', 'price': 2000, 'quant': 24},\n",
       " '3011': {'name': 'televisions', 'price': 3500, 'quant': 10},\n",
       " '3012': {'name': 'bangles', 'price': 50, 'quant': 19},\n",
       " '3013': {'name': 'nail polishs', 'price': 20, 'quant': 78},\n",
       " '3014': {'name': 'tooth brushes', 'price': 40, 'quant': 41},\n",
       " '3015': {'name': 'ear rings', 'price': 67, 'quant': 33},\n",
       " '3016': {'name': 'lipsticks', 'price': 32, 'quant': 30},\n",
       " '3017': {'name': 'phone case', 'price': 150, 'quant': 46},\n",
       " '3018': {'name': 'power bank', 'price': 3400, 'quant': 20},\n",
       " '3019': {'name': 'rings', 'price': 10, 'quant': 43},\n",
       " '3020': {'name': 'chains', 'price': 30, 'quant': 20},\n",
       " '3021': {'name': 'clips', 'price': 5, 'quant': 30},\n",
       " '3022': {'name': 'chairs', 'price': 1032, 'quant': 36},\n",
       " '3023': {'name': 'sofa', 'price': 32132, 'quant': 6},\n",
       " '3024': {'name': 'washing machine', 'price': 53222, 'quant': 3},\n",
       " '3025': {'name': 'laptops', 'price': 48000, 'quant': 2},\n",
       " '3026': {'name': 'AC', 'price': 23232, 'quant': 7},\n",
       " '3027': {'name': 'face packs', 'price': 32, 'quant': 21},\n",
       " '3028': {'name': 'fridge', 'price': 45677, 'quant': 5},\n",
       " '3029': {'name': 'teddy bears', 'price': 300, 'quant': 10},\n",
       " '3030': {'name': 'shampoos', 'price': 3, 'quant': 90},\n",
       " '5': {'name': 'keyboard', 'price': 6567, 'quant': 8}}"
      ]
     },
     "execution_count": 18,
     "metadata": {},
     "output_type": "execute_result"
    }
   ],
   "source": [
    "record"
   ]
  },
  {
   "cell_type": "code",
   "execution_count": 23,
   "metadata": {},
   "outputs": [],
   "source": [
    "js=json.dumps(record)"
   ]
  },
  {
   "cell_type": "code",
   "execution_count": 24,
   "metadata": {},
   "outputs": [],
   "source": [
    "op=open(\"record.json\",\"w\")\n",
    "op.write(js)\n",
    "op.close()"
   ]
  },
  {
   "cell_type": "code",
   "execution_count": 25,
   "metadata": {},
   "outputs": [],
   "source": [
    "sale=json.dumps(d)\n"
   ]
  },
  {
   "cell_type": "code",
   "execution_count": 26,
   "metadata": {},
   "outputs": [],
   "source": [
    "wr=open(\"sales.json\",\"w\")\n",
    "wr.write(sale)\n",
    "wr.close()"
   ]
  },
  {
   "cell_type": "code",
   "execution_count": null,
   "metadata": {},
   "outputs": [],
   "source": []
  }
 ],
 "metadata": {
  "kernelspec": {
   "display_name": "Python 3",
   "language": "python",
   "name": "python3"
  },
  "language_info": {
   "codemirror_mode": {
    "name": "ipython",
    "version": 3
   },
   "file_extension": ".py",
   "mimetype": "text/x-python",
   "name": "python",
   "nbconvert_exporter": "python",
   "pygments_lexer": "ipython3",
   "version": "3.8.5"
  }
 },
 "nbformat": 4,
 "nbformat_minor": 4
}
